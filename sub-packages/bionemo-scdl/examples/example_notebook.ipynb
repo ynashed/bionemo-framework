{
 "cells": [
  {
   "cell_type": "code",
   "execution_count": null,
   "metadata": {},
   "outputs": [],
   "source": [
    "import tempfile\n",
    "\n",
    "from torch.utils.data import DataLoader\n",
    "\n",
    "from bionemo.scdl.io.single_cell_memmap_dataset import SingleCellMemMapDataset\n",
    "from bionemo.scdl.util.torch_dataloader_utils import collate_sparse_matrix_batch"
   ]
  },
  {
   "cell_type": "markdown",
   "metadata": {},
   "source": [
    "First, copy the input data. This can be done by copying https://datasets.cellxgene.cziscience.com/97e96fb1-8caf-4f08-9174-27308eabd4ea.h5ad to a  directory name hdf5s. "
   ]
  },
  {
   "cell_type": "code",
   "execution_count": null,
   "metadata": {},
   "outputs": [],
   "source": [
    "#Create a SingleCellMemMapDataset\n",
    "data = SingleCellMemMapDataset(\"97e_scmm\", \"hdf5s/97e96fb1-8caf-4f08-9174-27308eabd4ea.h5ad\")\n"
   ]
  },
  {
   "cell_type": "code",
   "execution_count": null,
   "metadata": {},
   "outputs": [],
   "source": [
    "#Save the dataset to the disk. \n",
    "data.save()"
   ]
  },
  {
   "cell_type": "code",
   "execution_count": null,
   "metadata": {},
   "outputs": [],
   "source": [
    "#Reload the data\n",
    "reloaded_data = SingleCellMemMapDataset(\"97e_scmm\")"
   ]
  },
  {
   "cell_type": "markdown",
   "metadata": {},
   "source": [
    "There are various numbers of columns per observation. However, for a batch size of 1\n",
    "the data does not need to be collated. It will then be outputted in a torch tensor of shape\n",
    "(1, 2, num_obs) The first row of lengh num_obs contains the column pointers, and the second row contains the corresponding values."
   ]
  },
  {
   "cell_type": "code",
   "execution_count": null,
   "metadata": {},
   "outputs": [],
   "source": [
    "model = lambda x : x\n",
    "\n",
    "dataloader = DataLoader(data, batch_size=1, shuffle=True, collate_fn=collate_sparse_matrix_batch)\n",
    "n_epochs = 1\n",
    "for e in range(n_epochs):\n",
    "    for batch in dataloader:\n",
    "        model(batch)\n"
   ]
  },
  {
   "cell_type": "markdown",
   "metadata": {},
   "source": [
    "The data can be collated with a batch size of 1 and must be collated with larger batch sizes. \n",
    "This will collate several sparse matrices into the CSR (Compressed Sparse Row) torch tensor\n",
    "format."
   ]
  },
  {
   "cell_type": "code",
   "execution_count": null,
   "metadata": {},
   "outputs": [],
   "source": [
    "model = lambda x : x\n",
    "\n",
    "dataloader = DataLoader(data, batch_size=8, shuffle=True, collate_fn=collate_sparse_matrix_batch)\n",
    "n_epochs = 1\n",
    "for e in range(n_epochs):\n",
    "    for batch in dataloader:\n",
    "        model(batch)\n"
   ]
  },
  {
   "cell_type": "markdown",
   "metadata": {},
   "source": [
    "Alternatively, if there are multiple AnnData files, they can be converted into a single SingleCellMemMapDataset. If the \n",
    "hdf5 directory has one or more AnnData files, the SingleCellCollection class crawls the filesystem to recursively find \n",
    "AnnData files (with the h5ad extension). The code below is in scripts/convert_h5ad_to_scdl.py. It will create a new\n",
    "dataset at example_dataset. This can also be called with the convert_h5ad_to_scdl command."
   ]
  },
  {
   "cell_type": "code",
   "execution_count": null,
   "metadata": {},
   "outputs": [],
   "source": [
    "# path to dir holding hdf5s data\n",
    "hdf5s = \"./hdf5s\"\n",
    "\n",
    "# path to output dir where SCDataset will be stored\n",
    "example_dataset = \"./scdataset_output\""
   ]
  },
  {
   "cell_type": "code",
   "execution_count": null,
   "metadata": {},
   "outputs": [],
   "source": [
    "from bionemo.scdl.io.single_cell_collection import SingleCellCollection\n",
    "with tempfile.TemporaryDirectory() as temp_dir:\n",
    "    coll = SingleCellCollection(temp_dir)\n",
    "    coll.load_h5ad_multi(hdf5s, max_workers=4, use_processes=True)\n",
    "    coll.flatten(example_dataset, destroy_on_copy=True)"
   ]
  }
 ],
 "metadata": {
  "kernelspec": {
   "display_name": "sc",
   "language": "python",
   "name": "python3"
  },
  "language_info": {
   "codemirror_mode": {
    "name": "ipython",
    "version": 3
   },
   "file_extension": ".py",
   "mimetype": "text/x-python",
   "name": "python",
   "nbconvert_exporter": "python",
   "pygments_lexer": "ipython3",
   "version": "3.10.12"
  }
 },
 "nbformat": 4,
 "nbformat_minor": 2
}
